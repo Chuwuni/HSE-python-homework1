{
 "cells": [
  {
   "cell_type": "markdown",
   "id": "7e357a78-2ee4-49d7-aa5a-ee9fbf07f5f4",
   "metadata": {},
   "source": [
    "## Савостин Иван\n",
    "### Основы Python ДЗ №1"
   ]
  },
  {
   "cell_type": "markdown",
   "id": "5c808d60-3223-4178-983b-54f2b487b59b",
   "metadata": {},
   "source": [
    "#### Задание 1"
   ]
  },
  {
   "cell_type": "code",
   "execution_count": 43,
   "id": "51139839-f359-42d4-88ca-f14c1f11a3e8",
   "metadata": {},
   "outputs": [],
   "source": [
    "def year_check(year: int):\n",
    "    if (year%4==0 and year%100!=0) or year%400==0:\n",
    "        print(\"Високосный год\")\n",
    "    else:\n",
    "        print(\"Обычный год\")"
   ]
  },
  {
   "cell_type": "code",
   "execution_count": 45,
   "id": "d91cfc92-6e1f-43fe-a818-75df75417244",
   "metadata": {},
   "outputs": [
    {
     "name": "stdout",
     "output_type": "stream",
     "text": [
      "Високосный год\n"
     ]
    }
   ],
   "source": [
    "year_check(2020)"
   ]
  },
  {
   "cell_type": "code",
   "execution_count": 46,
   "id": "a8b561ad-b345-4489-9553-d7a1936bd976",
   "metadata": {},
   "outputs": [
    {
     "name": "stdout",
     "output_type": "stream",
     "text": [
      "Обычный год\n"
     ]
    }
   ],
   "source": [
    "year_check(2019)"
   ]
  },
  {
   "cell_type": "markdown",
   "id": "e67fe35b-558d-4e2b-a87f-a7c3a949d460",
   "metadata": {},
   "source": [
    "#### Задание 2"
   ]
  },
  {
   "cell_type": "code",
   "execution_count": 52,
   "id": "7805714f-b578-4086-81e5-ace04fb86535",
   "metadata": {},
   "outputs": [],
   "source": [
    "def lucky_ticket(ticket: int):\n",
    "    numbers = [int(i) for i in str(ticket)]\n",
    "    \n",
    "    if len(numbers)!=6:\n",
    "        print(\"Ошибка: Неверная длинна номера билета\")\n",
    "    elif sum(numbers[0:3]) == sum(numbers[3:6]):\n",
    "        print(\"Счастливый билет\")\n",
    "    else:\n",
    "        print(\"Несчастливый билет\")"
   ]
  },
  {
   "cell_type": "code",
   "execution_count": 54,
   "id": "6b9f10d3-b10c-4619-8082-8c50dbb20600",
   "metadata": {},
   "outputs": [
    {
     "name": "stdout",
     "output_type": "stream",
     "text": [
      "Несчастливый билет\n"
     ]
    }
   ],
   "source": [
    "lucky_ticket(123456)"
   ]
  },
  {
   "cell_type": "code",
   "execution_count": 55,
   "id": "ca3ca632-d10d-4736-9a14-44a0793a8bdf",
   "metadata": {},
   "outputs": [
    {
     "name": "stdout",
     "output_type": "stream",
     "text": [
      "Счастливый билет\n"
     ]
    }
   ],
   "source": [
    "lucky_ticket(123321)"
   ]
  }
 ],
 "metadata": {
  "kernelspec": {
   "display_name": "Python 3 (ipykernel)",
   "language": "python",
   "name": "python3"
  },
  "language_info": {
   "codemirror_mode": {
    "name": "ipython",
    "version": 3
   },
   "file_extension": ".py",
   "mimetype": "text/x-python",
   "name": "python",
   "nbconvert_exporter": "python",
   "pygments_lexer": "ipython3",
   "version": "3.13.7"
  }
 },
 "nbformat": 4,
 "nbformat_minor": 5
}
